{
 "cells": [
  {
   "cell_type": "code",
   "execution_count": 173,
   "id": "033db716",
   "metadata": {},
   "outputs": [],
   "source": [
    "import pandas as pd\n",
    "import numpy as np"
   ]
  },
  {
   "cell_type": "code",
   "execution_count": 174,
   "id": "aace9a1a",
   "metadata": {},
   "outputs": [],
   "source": [
    "from numpy.random import randn\n",
    "np.random.seed(200)"
   ]
  },
  {
   "cell_type": "code",
   "execution_count": 175,
   "id": "81cc3f65",
   "metadata": {},
   "outputs": [
    {
     "data": {
      "text/html": [
       "<div>\n",
       "<style scoped>\n",
       "    .dataframe tbody tr th:only-of-type {\n",
       "        vertical-align: middle;\n",
       "    }\n",
       "\n",
       "    .dataframe tbody tr th {\n",
       "        vertical-align: top;\n",
       "    }\n",
       "\n",
       "    .dataframe thead th {\n",
       "        text-align: right;\n",
       "    }\n",
       "</style>\n",
       "<table border=\"1\" class=\"dataframe\">\n",
       "  <thead>\n",
       "    <tr style=\"text-align: right;\">\n",
       "      <th></th>\n",
       "      <th>G</th>\n",
       "      <th>H</th>\n",
       "      <th>I</th>\n",
       "      <th>K</th>\n",
       "    </tr>\n",
       "  </thead>\n",
       "  <tbody>\n",
       "    <tr>\n",
       "      <th>A</th>\n",
       "      <td>-1.450948</td>\n",
       "      <td>1.910953</td>\n",
       "      <td>0.711879</td>\n",
       "      <td>-0.247738</td>\n",
       "    </tr>\n",
       "    <tr>\n",
       "      <th>B</th>\n",
       "      <td>0.361466</td>\n",
       "      <td>-0.032950</td>\n",
       "      <td>-0.221347</td>\n",
       "      <td>0.477257</td>\n",
       "    </tr>\n",
       "    <tr>\n",
       "      <th>C</th>\n",
       "      <td>-0.691939</td>\n",
       "      <td>0.792006</td>\n",
       "      <td>0.073249</td>\n",
       "      <td>1.303286</td>\n",
       "    </tr>\n",
       "    <tr>\n",
       "      <th>D</th>\n",
       "      <td>0.213481</td>\n",
       "      <td>1.017349</td>\n",
       "      <td>1.911712</td>\n",
       "      <td>-0.529672</td>\n",
       "    </tr>\n",
       "    <tr>\n",
       "      <th>E</th>\n",
       "      <td>1.842135</td>\n",
       "      <td>-1.057235</td>\n",
       "      <td>-0.862916</td>\n",
       "      <td>0.237631</td>\n",
       "    </tr>\n",
       "    <tr>\n",
       "      <th>F</th>\n",
       "      <td>-1.154182</td>\n",
       "      <td>1.214984</td>\n",
       "      <td>-1.293759</td>\n",
       "      <td>0.822723</td>\n",
       "    </tr>\n",
       "  </tbody>\n",
       "</table>\n",
       "</div>"
      ],
      "text/plain": [
       "          G         H         I         K\n",
       "A -1.450948  1.910953  0.711879 -0.247738\n",
       "B  0.361466 -0.032950 -0.221347  0.477257\n",
       "C -0.691939  0.792006  0.073249  1.303286\n",
       "D  0.213481  1.017349  1.911712 -0.529672\n",
       "E  1.842135 -1.057235 -0.862916  0.237631\n",
       "F -1.154182  1.214984 -1.293759  0.822723"
      ]
     },
     "execution_count": 175,
     "metadata": {},
     "output_type": "execute_result"
    }
   ],
   "source": [
    "#1)creating a DataFrame\n",
    "df = pd.DataFrame(randn(6,4), index = \"A B C D E F\".split(), columns = \" G H I K\".split())\n",
    "df"
   ]
  },
  {
   "cell_type": "code",
   "execution_count": 176,
   "id": "a94eeaf3",
   "metadata": {},
   "outputs": [
    {
     "data": {
      "text/plain": [
       "G   -1.450948\n",
       "H    1.910953\n",
       "I    0.711879\n",
       "K   -0.247738\n",
       "Name: A, dtype: float64"
      ]
     },
     "execution_count": 176,
     "metadata": {},
     "output_type": "execute_result"
    }
   ],
   "source": [
    "#2)using loc function to get the location on the row\n",
    "df.loc[\"A\"]"
   ]
  },
  {
   "cell_type": "code",
   "execution_count": 177,
   "id": "8e39599f",
   "metadata": {},
   "outputs": [
    {
     "data": {
      "text/plain": [
       "G   -0.691939\n",
       "H    0.792006\n",
       "I    0.073249\n",
       "K    1.303286\n",
       "Name: C, dtype: float64"
      ]
     },
     "execution_count": 177,
     "metadata": {},
     "output_type": "execute_result"
    }
   ],
   "source": [
    "#3)using iloc function to get the location \n",
    "df.iloc[2]"
   ]
  },
  {
   "cell_type": "code",
   "execution_count": 178,
   "id": "24466aa6",
   "metadata": {},
   "outputs": [
    {
     "data": {
      "text/html": [
       "<div>\n",
       "<style scoped>\n",
       "    .dataframe tbody tr th:only-of-type {\n",
       "        vertical-align: middle;\n",
       "    }\n",
       "\n",
       "    .dataframe tbody tr th {\n",
       "        vertical-align: top;\n",
       "    }\n",
       "\n",
       "    .dataframe thead th {\n",
       "        text-align: right;\n",
       "    }\n",
       "</style>\n",
       "<table border=\"1\" class=\"dataframe\">\n",
       "  <thead>\n",
       "    <tr style=\"text-align: right;\">\n",
       "      <th></th>\n",
       "      <th>G</th>\n",
       "      <th>H</th>\n",
       "      <th>I</th>\n",
       "      <th>K</th>\n",
       "      <th>j</th>\n",
       "    </tr>\n",
       "  </thead>\n",
       "  <tbody>\n",
       "    <tr>\n",
       "      <th>A</th>\n",
       "      <td>-1.450948</td>\n",
       "      <td>1.910953</td>\n",
       "      <td>0.711879</td>\n",
       "      <td>-0.247738</td>\n",
       "      <td>0.460005</td>\n",
       "    </tr>\n",
       "    <tr>\n",
       "      <th>B</th>\n",
       "      <td>0.361466</td>\n",
       "      <td>-0.032950</td>\n",
       "      <td>-0.221347</td>\n",
       "      <td>0.477257</td>\n",
       "      <td>0.328517</td>\n",
       "    </tr>\n",
       "    <tr>\n",
       "      <th>C</th>\n",
       "      <td>-0.691939</td>\n",
       "      <td>0.792006</td>\n",
       "      <td>0.073249</td>\n",
       "      <td>1.303286</td>\n",
       "      <td>0.100067</td>\n",
       "    </tr>\n",
       "    <tr>\n",
       "      <th>D</th>\n",
       "      <td>0.213481</td>\n",
       "      <td>1.017349</td>\n",
       "      <td>1.911712</td>\n",
       "      <td>-0.529672</td>\n",
       "      <td>1.230830</td>\n",
       "    </tr>\n",
       "    <tr>\n",
       "      <th>E</th>\n",
       "      <td>1.842135</td>\n",
       "      <td>-1.057235</td>\n",
       "      <td>-0.862916</td>\n",
       "      <td>0.237631</td>\n",
       "      <td>0.784900</td>\n",
       "    </tr>\n",
       "    <tr>\n",
       "      <th>F</th>\n",
       "      <td>-1.154182</td>\n",
       "      <td>1.214984</td>\n",
       "      <td>-1.293759</td>\n",
       "      <td>0.822723</td>\n",
       "      <td>0.060802</td>\n",
       "    </tr>\n",
       "  </tbody>\n",
       "</table>\n",
       "</div>"
      ],
      "text/plain": [
       "          G         H         I         K         j\n",
       "A -1.450948  1.910953  0.711879 -0.247738  0.460005\n",
       "B  0.361466 -0.032950 -0.221347  0.477257  0.328517\n",
       "C -0.691939  0.792006  0.073249  1.303286  0.100067\n",
       "D  0.213481  1.017349  1.911712 -0.529672  1.230830\n",
       "E  1.842135 -1.057235 -0.862916  0.237631  0.784900\n",
       "F -1.154182  1.214984 -1.293759  0.822723  0.060802"
      ]
     },
     "execution_count": 178,
     "metadata": {},
     "output_type": "execute_result"
    }
   ],
   "source": [
    "#4)To add a new column to the dataframe\n",
    "df[\"j\"]= df[\"G\"] + df[\"H\"]\n",
    "df"
   ]
  },
  {
   "cell_type": "code",
   "execution_count": 179,
   "id": "0b47f694",
   "metadata": {},
   "outputs": [
    {
     "name": "stdout",
     "output_type": "stream",
     "text": [
      "       G      H      I      K      j\n",
      "A  False  False  False  False  False\n",
      "B  False  False  False  False  False\n",
      "C  False  False  False  False  False\n",
      "D  False  False  False  False  False\n",
      "E  False  False  False  False  False\n",
      "F  False  False  False  False  False\n"
     ]
    }
   ],
   "source": [
    "#5)Checking for missing values using the isnull()\n",
    "print(df.isnull())"
   ]
  },
  {
   "cell_type": "code",
   "execution_count": 180,
   "id": "c2284380",
   "metadata": {},
   "outputs": [
    {
     "name": "stdout",
     "output_type": "stream",
     "text": [
      "          G         H         I         K         j\n",
      "A  0.000000  1.910953  0.711879  0.000000  0.460005\n",
      "B  0.361466  0.000000  0.000000  0.477257  0.328517\n",
      "C  0.000000  0.792006  0.073249  1.303286  0.100067\n",
      "D  0.213481  1.017349  1.911712  0.000000  1.230830\n",
      "E  1.842135  0.000000  0.000000  0.237631  0.784900\n",
      "F  0.000000  1.214984  0.000000  0.822723  0.060802\n"
     ]
    }
   ],
   "source": [
    "#6)Replace negative values with 0\n",
    "df[df < 0] = 0\n",
    "print(df)"
   ]
  },
  {
   "cell_type": "code",
   "execution_count": 181,
   "id": "4809ecee",
   "metadata": {},
   "outputs": [
    {
     "data": {
      "text/plain": [
       "(6, 5)"
      ]
     },
     "execution_count": 181,
     "metadata": {},
     "output_type": "execute_result"
    }
   ],
   "source": [
    "#7)using the shape function to get shape of the dataframe indicating that it is 6 by 5 matrix\n",
    "df.shape"
   ]
  },
  {
   "cell_type": "code",
   "execution_count": 182,
   "id": "7e481f27",
   "metadata": {},
   "outputs": [
    {
     "data": {
      "text/html": [
       "<div>\n",
       "<style scoped>\n",
       "    .dataframe tbody tr th:only-of-type {\n",
       "        vertical-align: middle;\n",
       "    }\n",
       "\n",
       "    .dataframe tbody tr th {\n",
       "        vertical-align: top;\n",
       "    }\n",
       "\n",
       "    .dataframe thead th {\n",
       "        text-align: right;\n",
       "    }\n",
       "</style>\n",
       "<table border=\"1\" class=\"dataframe\">\n",
       "  <thead>\n",
       "    <tr style=\"text-align: right;\">\n",
       "      <th></th>\n",
       "      <th>G</th>\n",
       "      <th>H</th>\n",
       "      <th>I</th>\n",
       "      <th>K</th>\n",
       "      <th>j</th>\n",
       "    </tr>\n",
       "  </thead>\n",
       "  <tbody>\n",
       "    <tr>\n",
       "      <th>count</th>\n",
       "      <td>6.000000</td>\n",
       "      <td>6.000000</td>\n",
       "      <td>6.000000</td>\n",
       "      <td>6.000000</td>\n",
       "      <td>6.000000</td>\n",
       "    </tr>\n",
       "    <tr>\n",
       "      <th>mean</th>\n",
       "      <td>0.402847</td>\n",
       "      <td>0.822549</td>\n",
       "      <td>0.449473</td>\n",
       "      <td>0.473483</td>\n",
       "      <td>0.494187</td>\n",
       "    </tr>\n",
       "    <tr>\n",
       "      <th>std</th>\n",
       "      <td>0.720552</td>\n",
       "      <td>0.739010</td>\n",
       "      <td>0.768716</td>\n",
       "      <td>0.512748</td>\n",
       "      <td>0.446973</td>\n",
       "    </tr>\n",
       "    <tr>\n",
       "      <th>min</th>\n",
       "      <td>0.000000</td>\n",
       "      <td>0.000000</td>\n",
       "      <td>0.000000</td>\n",
       "      <td>0.000000</td>\n",
       "      <td>0.060802</td>\n",
       "    </tr>\n",
       "    <tr>\n",
       "      <th>25%</th>\n",
       "      <td>0.000000</td>\n",
       "      <td>0.198001</td>\n",
       "      <td>0.000000</td>\n",
       "      <td>0.059408</td>\n",
       "      <td>0.157179</td>\n",
       "    </tr>\n",
       "    <tr>\n",
       "      <th>50%</th>\n",
       "      <td>0.106741</td>\n",
       "      <td>0.904677</td>\n",
       "      <td>0.036625</td>\n",
       "      <td>0.357444</td>\n",
       "      <td>0.394261</td>\n",
       "    </tr>\n",
       "    <tr>\n",
       "      <th>75%</th>\n",
       "      <td>0.324470</td>\n",
       "      <td>1.165575</td>\n",
       "      <td>0.552222</td>\n",
       "      <td>0.736356</td>\n",
       "      <td>0.703676</td>\n",
       "    </tr>\n",
       "    <tr>\n",
       "      <th>max</th>\n",
       "      <td>1.842135</td>\n",
       "      <td>1.910953</td>\n",
       "      <td>1.911712</td>\n",
       "      <td>1.303286</td>\n",
       "      <td>1.230830</td>\n",
       "    </tr>\n",
       "  </tbody>\n",
       "</table>\n",
       "</div>"
      ],
      "text/plain": [
       "              G         H         I         K         j\n",
       "count  6.000000  6.000000  6.000000  6.000000  6.000000\n",
       "mean   0.402847  0.822549  0.449473  0.473483  0.494187\n",
       "std    0.720552  0.739010  0.768716  0.512748  0.446973\n",
       "min    0.000000  0.000000  0.000000  0.000000  0.060802\n",
       "25%    0.000000  0.198001  0.000000  0.059408  0.157179\n",
       "50%    0.106741  0.904677  0.036625  0.357444  0.394261\n",
       "75%    0.324470  1.165575  0.552222  0.736356  0.703676\n",
       "max    1.842135  1.910953  1.911712  1.303286  1.230830"
      ]
     },
     "execution_count": 182,
     "metadata": {},
     "output_type": "execute_result"
    }
   ],
   "source": [
    "#8)using the describe() funcction to get the discriptive statistics of the dataframe \n",
    "df.describe()"
   ]
  },
  {
   "cell_type": "code",
   "execution_count": 183,
   "id": "7b04dc93",
   "metadata": {},
   "outputs": [
    {
     "data": {
      "text/plain": [
       "G    float64\n",
       "H    float64\n",
       "I    float64\n",
       "K    float64\n",
       "j    float64\n",
       "dtype: object"
      ]
     },
     "execution_count": 183,
     "metadata": {},
     "output_type": "execute_result"
    }
   ],
   "source": [
    "#9)using the dtypes function to get the datatypes for each columns \n",
    "df.dtypes"
   ]
  },
  {
   "cell_type": "code",
   "execution_count": 184,
   "id": "06091583",
   "metadata": {},
   "outputs": [
    {
     "data": {
      "text/plain": [
       "G    0.402847\n",
       "H    0.822549\n",
       "I    0.449473\n",
       "K    0.473483\n",
       "j    0.494187\n",
       "dtype: float64"
      ]
     },
     "execution_count": 184,
     "metadata": {},
     "output_type": "execute_result"
    }
   ],
   "source": [
    "#10)using the mean() function to get the mean for each columns\n",
    "df.mean()"
   ]
  },
  {
   "cell_type": "code",
   "execution_count": 185,
   "id": "665fc98d",
   "metadata": {},
   "outputs": [
    {
     "data": {
      "text/plain": [
       "Index(['G', 'H', 'I', 'K', 'j'], dtype='object')"
      ]
     },
     "execution_count": 185,
     "metadata": {},
     "output_type": "execute_result"
    }
   ],
   "source": [
    "#11)Getting the column labels of the DataFrame\n",
    "df.columns"
   ]
  },
  {
   "cell_type": "code",
   "execution_count": 186,
   "id": "9a262475",
   "metadata": {},
   "outputs": [
    {
     "data": {
      "text/plain": [
       "Index(['A', 'B', 'C', 'D', 'E', 'F'], dtype='object')"
      ]
     },
     "execution_count": 186,
     "metadata": {},
     "output_type": "execute_result"
    }
   ],
   "source": [
    "#12)Getting the row labels of the DataFrame\n",
    "df.index"
   ]
  },
  {
   "cell_type": "code",
   "execution_count": 187,
   "id": "0787925f",
   "metadata": {},
   "outputs": [
    {
     "name": "stdout",
     "output_type": "stream",
     "text": [
      "<class 'pandas.core.frame.DataFrame'>\n",
      "Index: 6 entries, A to F\n",
      "Data columns (total 5 columns):\n",
      " #   Column  Non-Null Count  Dtype  \n",
      "---  ------  --------------  -----  \n",
      " 0   G       6 non-null      float64\n",
      " 1   H       6 non-null      float64\n",
      " 2   I       6 non-null      float64\n",
      " 3   K       6 non-null      float64\n",
      " 4   j       6 non-null      float64\n",
      "dtypes: float64(5)\n",
      "memory usage: 460.0+ bytes\n",
      "None\n"
     ]
    }
   ],
   "source": [
    "#13)Display a concise summary of the DataFrame\n",
    "print(df.info())"
   ]
  },
  {
   "cell_type": "code",
   "execution_count": 188,
   "id": "fd53f5ed",
   "metadata": {},
   "outputs": [
    {
     "data": {
      "text/plain": [
       "G    1.842135\n",
       "H    1.910953\n",
       "I    1.911712\n",
       "K    1.303286\n",
       "j    1.230830\n",
       "dtype: float64"
      ]
     },
     "execution_count": 188,
     "metadata": {},
     "output_type": "execute_result"
    }
   ],
   "source": [
    "#14)Using the max function to get the maximum value in each column\n",
    "df.max()"
   ]
  },
  {
   "cell_type": "code",
   "execution_count": 189,
   "id": "fa2ca1ac",
   "metadata": {},
   "outputs": [
    {
     "data": {
      "text/plain": [
       "G    0.000000\n",
       "H    0.000000\n",
       "I    0.000000\n",
       "K    0.000000\n",
       "j    0.060802\n",
       "dtype: float64"
      ]
     },
     "execution_count": 189,
     "metadata": {},
     "output_type": "execute_result"
    }
   ],
   "source": [
    "#15)Using the max function to get the maximum value in each column\n",
    "df.min()"
   ]
  },
  {
   "cell_type": "code",
   "execution_count": 190,
   "id": "3ce4edcf",
   "metadata": {},
   "outputs": [
    {
     "data": {
      "text/html": [
       "<div>\n",
       "<style scoped>\n",
       "    .dataframe tbody tr th:only-of-type {\n",
       "        vertical-align: middle;\n",
       "    }\n",
       "\n",
       "    .dataframe tbody tr th {\n",
       "        vertical-align: top;\n",
       "    }\n",
       "\n",
       "    .dataframe thead th {\n",
       "        text-align: right;\n",
       "    }\n",
       "</style>\n",
       "<table border=\"1\" class=\"dataframe\">\n",
       "  <thead>\n",
       "    <tr style=\"text-align: right;\">\n",
       "      <th></th>\n",
       "      <th>G</th>\n",
       "      <th>H</th>\n",
       "      <th>I</th>\n",
       "      <th>K</th>\n",
       "      <th>j</th>\n",
       "    </tr>\n",
       "  </thead>\n",
       "  <tbody>\n",
       "    <tr>\n",
       "      <th>A</th>\n",
       "      <td>0.000000</td>\n",
       "      <td>1.910953</td>\n",
       "      <td>0.711879</td>\n",
       "      <td>0.000000</td>\n",
       "      <td>0.460005</td>\n",
       "    </tr>\n",
       "    <tr>\n",
       "      <th>B</th>\n",
       "      <td>0.361466</td>\n",
       "      <td>0.000000</td>\n",
       "      <td>0.000000</td>\n",
       "      <td>0.477257</td>\n",
       "      <td>0.328517</td>\n",
       "    </tr>\n",
       "    <tr>\n",
       "      <th>C</th>\n",
       "      <td>0.000000</td>\n",
       "      <td>0.792006</td>\n",
       "      <td>0.073249</td>\n",
       "      <td>1.303286</td>\n",
       "      <td>0.100067</td>\n",
       "    </tr>\n",
       "    <tr>\n",
       "      <th>D</th>\n",
       "      <td>0.213481</td>\n",
       "      <td>1.017349</td>\n",
       "      <td>1.911712</td>\n",
       "      <td>0.000000</td>\n",
       "      <td>1.230830</td>\n",
       "    </tr>\n",
       "    <tr>\n",
       "      <th>E</th>\n",
       "      <td>1.842135</td>\n",
       "      <td>0.000000</td>\n",
       "      <td>0.000000</td>\n",
       "      <td>0.237631</td>\n",
       "      <td>0.784900</td>\n",
       "    </tr>\n",
       "    <tr>\n",
       "      <th>F</th>\n",
       "      <td>0.000000</td>\n",
       "      <td>1.214984</td>\n",
       "      <td>0.000000</td>\n",
       "      <td>0.822723</td>\n",
       "      <td>0.060802</td>\n",
       "    </tr>\n",
       "  </tbody>\n",
       "</table>\n",
       "</div>"
      ],
      "text/plain": [
       "          G         H         I         K         j\n",
       "A  0.000000  1.910953  0.711879  0.000000  0.460005\n",
       "B  0.361466  0.000000  0.000000  0.477257  0.328517\n",
       "C  0.000000  0.792006  0.073249  1.303286  0.100067\n",
       "D  0.213481  1.017349  1.911712  0.000000  1.230830\n",
       "E  1.842135  0.000000  0.000000  0.237631  0.784900\n",
       "F  0.000000  1.214984  0.000000  0.822723  0.060802"
      ]
     },
     "execution_count": 190,
     "metadata": {},
     "output_type": "execute_result"
    }
   ],
   "source": [
    "df"
   ]
  },
  {
   "cell_type": "code",
   "execution_count": 191,
   "id": "b4a19db3",
   "metadata": {},
   "outputs": [
    {
     "data": {
      "text/plain": [
       "G    2.417083\n",
       "H    4.935292\n",
       "I    2.696840\n",
       "K    2.840897\n",
       "j    2.965121\n",
       "dtype: float64"
      ]
     },
     "execution_count": 191,
     "metadata": {},
     "output_type": "execute_result"
    }
   ],
   "source": [
    "#16)Using the sum function to get the sum of each column\n",
    "df.sum()"
   ]
  },
  {
   "cell_type": "code",
   "execution_count": 193,
   "id": "af1c668b",
   "metadata": {},
   "outputs": [
    {
     "name": "stdout",
     "output_type": "stream",
     "text": [
      "          G         H         I         K         j  G_binary\n",
      "A  0.000000  1.910953  0.711879  0.000000  0.460005         0\n",
      "B  0.361466  0.000000  0.000000  0.477257  0.328517         1\n",
      "C  0.000000  0.792006  0.073249  1.303286  0.100067         0\n",
      "D  0.213481  1.017349  1.911712  0.000000  1.230830         1\n",
      "E  1.842135  0.000000  0.000000  0.237631  0.784900         1\n",
      "F  0.000000  1.214984  0.000000  0.822723  0.060802         0\n"
     ]
    }
   ],
   "source": [
    "#17)Create a new column 'G_binary' with 1 if 'G' is positive, 0 otherwise\n",
    "df['G_binary'] = (df['G'] > 0).astype(int)\n",
    "#print the result\n",
    "print(df)"
   ]
  },
  {
   "cell_type": "code",
   "execution_count": 194,
   "id": "1ef5e289",
   "metadata": {},
   "outputs": [
    {
     "data": {
      "text/plain": [
       "A    False\n",
       "B    False\n",
       "C    False\n",
       "D    False\n",
       "E    False\n",
       "F    False\n",
       "dtype: bool"
      ]
     },
     "execution_count": 194,
     "metadata": {},
     "output_type": "execute_result"
    }
   ],
   "source": [
    "#18)Using the duplicate function to check for the duplicated rows\n",
    "df.duplicated()"
   ]
  },
  {
   "cell_type": "code",
   "execution_count": 195,
   "id": "3e7a7e5d",
   "metadata": {},
   "outputs": [
    {
     "name": "stdout",
     "output_type": "stream",
     "text": [
      "          G         H         I         K         j  G_binary\n",
      "A  0.000000  1.910953  0.711879  0.000000  0.460005         0\n",
      "B  0.361466  0.000000  0.000000  0.477257  0.328517         1\n",
      "C  0.000000  0.792006  0.073249  1.303286  0.100067         0\n",
      "D  0.213481  1.017349  1.911712  0.000000  1.230830         1\n",
      "E  1.842135  0.000000  0.000000  0.237631  0.784900         1\n",
      "F  0.000000  1.214984  0.000000  0.822723  0.060802         0\n"
     ]
    }
   ],
   "source": [
    "#19)Using the drop_duplicates to Drop duplicated rows\n",
    "df_no_duplicates = df.drop_duplicates()\n",
    "print(df_no_duplicates)"
   ]
  },
  {
   "cell_type": "code",
   "execution_count": 196,
   "id": "0e77f2dc",
   "metadata": {},
   "outputs": [
    {
     "data": {
      "text/html": [
       "<div>\n",
       "<style scoped>\n",
       "    .dataframe tbody tr th:only-of-type {\n",
       "        vertical-align: middle;\n",
       "    }\n",
       "\n",
       "    .dataframe tbody tr th {\n",
       "        vertical-align: top;\n",
       "    }\n",
       "\n",
       "    .dataframe thead th {\n",
       "        text-align: right;\n",
       "    }\n",
       "</style>\n",
       "<table border=\"1\" class=\"dataframe\">\n",
       "  <thead>\n",
       "    <tr style=\"text-align: right;\">\n",
       "      <th></th>\n",
       "      <th>G</th>\n",
       "      <th>H</th>\n",
       "      <th>I</th>\n",
       "      <th>K</th>\n",
       "      <th>j</th>\n",
       "      <th>G_binary</th>\n",
       "    </tr>\n",
       "  </thead>\n",
       "  <tbody>\n",
       "    <tr>\n",
       "      <th>A</th>\n",
       "      <td>0.000000</td>\n",
       "      <td>1.910953</td>\n",
       "      <td>0.711879</td>\n",
       "      <td>0.000000</td>\n",
       "      <td>0.460005</td>\n",
       "      <td>0</td>\n",
       "    </tr>\n",
       "    <tr>\n",
       "      <th>B</th>\n",
       "      <td>0.361466</td>\n",
       "      <td>0.000000</td>\n",
       "      <td>0.000000</td>\n",
       "      <td>0.477257</td>\n",
       "      <td>0.328517</td>\n",
       "      <td>1</td>\n",
       "    </tr>\n",
       "    <tr>\n",
       "      <th>C</th>\n",
       "      <td>0.000000</td>\n",
       "      <td>0.792006</td>\n",
       "      <td>0.073249</td>\n",
       "      <td>1.303286</td>\n",
       "      <td>0.100067</td>\n",
       "      <td>0</td>\n",
       "    </tr>\n",
       "    <tr>\n",
       "      <th>D</th>\n",
       "      <td>0.213481</td>\n",
       "      <td>1.017349</td>\n",
       "      <td>1.911712</td>\n",
       "      <td>0.000000</td>\n",
       "      <td>1.230830</td>\n",
       "      <td>1</td>\n",
       "    </tr>\n",
       "    <tr>\n",
       "      <th>E</th>\n",
       "      <td>1.842135</td>\n",
       "      <td>0.000000</td>\n",
       "      <td>0.000000</td>\n",
       "      <td>0.237631</td>\n",
       "      <td>0.784900</td>\n",
       "      <td>1</td>\n",
       "    </tr>\n",
       "    <tr>\n",
       "      <th>F</th>\n",
       "      <td>0.000000</td>\n",
       "      <td>1.214984</td>\n",
       "      <td>0.000000</td>\n",
       "      <td>0.822723</td>\n",
       "      <td>0.060802</td>\n",
       "      <td>0</td>\n",
       "    </tr>\n",
       "  </tbody>\n",
       "</table>\n",
       "</div>"
      ],
      "text/plain": [
       "          G         H         I         K         j  G_binary\n",
       "A  0.000000  1.910953  0.711879  0.000000  0.460005         0\n",
       "B  0.361466  0.000000  0.000000  0.477257  0.328517         1\n",
       "C  0.000000  0.792006  0.073249  1.303286  0.100067         0\n",
       "D  0.213481  1.017349  1.911712  0.000000  1.230830         1\n",
       "E  1.842135  0.000000  0.000000  0.237631  0.784900         1\n",
       "F  0.000000  1.214984  0.000000  0.822723  0.060802         0"
      ]
     },
     "execution_count": 196,
     "metadata": {},
     "output_type": "execute_result"
    }
   ],
   "source": [
    "df"
   ]
  },
  {
   "cell_type": "code",
   "execution_count": 197,
   "id": "ccf7bfb6",
   "metadata": {},
   "outputs": [
    {
     "name": "stdout",
     "output_type": "stream",
     "text": [
      "          G         H         I         K         j  G_binary  G_squared\n",
      "A  0.000000  1.910953  0.711879  0.000000  0.460005         0   0.000000\n",
      "B  0.361466  0.000000  0.000000  0.477257  0.328517         1   0.130658\n",
      "C  0.000000  0.792006  0.073249  1.303286  0.100067         0   0.000000\n",
      "D  0.213481  1.017349  1.911712  0.000000  1.230830         1   0.045574\n",
      "E  1.842135  0.000000  0.000000  0.237631  0.784900         1   3.393462\n",
      "F  0.000000  1.214984  0.000000  0.822723  0.060802         0   0.000000\n"
     ]
    }
   ],
   "source": [
    "#20) Apply a function to each element in column 'G' and create a new column 'G_squared'\n",
    "df['G_squared'] = df['G'].apply(lambda x: x**2)\n",
    "#print the result\n",
    "print(df)"
   ]
  },
  {
   "cell_type": "code",
   "execution_count": 198,
   "id": "6f1a2c7e",
   "metadata": {},
   "outputs": [
    {
     "name": "stdout",
     "output_type": "stream",
     "text": [
      "False\n"
     ]
    }
   ],
   "source": [
    "#21)Check if any element in the DataFrame is NaN\n",
    "print(df.isnull().any().any())"
   ]
  },
  {
   "cell_type": "code",
   "execution_count": 199,
   "id": "9817b762",
   "metadata": {},
   "outputs": [
    {
     "name": "stdout",
     "output_type": "stream",
     "text": [
      "          G         H    I         K         j  G_binary  G_squared\n",
      "E  1.842135  0.000000  0.0  0.237631  0.784900         1   3.393462\n",
      "F  0.000000  1.214984  0.0  0.822723  0.060802         0   0.000000\n"
     ]
    }
   ],
   "source": [
    "#22)Using the tail() function to Select the last 2 rows of the DataFrame\n",
    "df_last_2_rows = df.tail(2)\n",
    "print(df_last_2_rows)"
   ]
  },
  {
   "cell_type": "code",
   "execution_count": 200,
   "id": "89cb57e4",
   "metadata": {},
   "outputs": [
    {
     "data": {
      "text/html": [
       "<div>\n",
       "<style scoped>\n",
       "    .dataframe tbody tr th:only-of-type {\n",
       "        vertical-align: middle;\n",
       "    }\n",
       "\n",
       "    .dataframe tbody tr th {\n",
       "        vertical-align: top;\n",
       "    }\n",
       "\n",
       "    .dataframe thead th {\n",
       "        text-align: right;\n",
       "    }\n",
       "</style>\n",
       "<table border=\"1\" class=\"dataframe\">\n",
       "  <thead>\n",
       "    <tr style=\"text-align: right;\">\n",
       "      <th></th>\n",
       "      <th>G</th>\n",
       "      <th>H</th>\n",
       "      <th>I</th>\n",
       "      <th>K</th>\n",
       "      <th>j</th>\n",
       "      <th>G_binary</th>\n",
       "      <th>G_squared</th>\n",
       "    </tr>\n",
       "  </thead>\n",
       "  <tbody>\n",
       "    <tr>\n",
       "      <th>A</th>\n",
       "      <td>0.000000</td>\n",
       "      <td>1.910953</td>\n",
       "      <td>0.711879</td>\n",
       "      <td>0.000000</td>\n",
       "      <td>0.460005</td>\n",
       "      <td>0</td>\n",
       "      <td>0.000000</td>\n",
       "    </tr>\n",
       "    <tr>\n",
       "      <th>B</th>\n",
       "      <td>0.361466</td>\n",
       "      <td>0.000000</td>\n",
       "      <td>0.000000</td>\n",
       "      <td>0.477257</td>\n",
       "      <td>0.328517</td>\n",
       "      <td>1</td>\n",
       "      <td>0.130658</td>\n",
       "    </tr>\n",
       "    <tr>\n",
       "      <th>C</th>\n",
       "      <td>0.000000</td>\n",
       "      <td>0.792006</td>\n",
       "      <td>0.073249</td>\n",
       "      <td>1.303286</td>\n",
       "      <td>0.100067</td>\n",
       "      <td>0</td>\n",
       "      <td>0.000000</td>\n",
       "    </tr>\n",
       "  </tbody>\n",
       "</table>\n",
       "</div>"
      ],
      "text/plain": [
       "          G         H         I         K         j  G_binary  G_squared\n",
       "A  0.000000  1.910953  0.711879  0.000000  0.460005         0   0.000000\n",
       "B  0.361466  0.000000  0.000000  0.477257  0.328517         1   0.130658\n",
       "C  0.000000  0.792006  0.073249  1.303286  0.100067         0   0.000000"
      ]
     },
     "execution_count": 200,
     "metadata": {},
     "output_type": "execute_result"
    }
   ],
   "source": [
    "#23 Using the head() function to get the first 3 rows of the DataFrame\n",
    "df.head(3)"
   ]
  },
  {
   "cell_type": "code",
   "execution_count": 201,
   "id": "416f7c5d",
   "metadata": {},
   "outputs": [
    {
     "name": "stdout",
     "output_type": "stream",
     "text": [
      "          G         H         I         K         j  G_binary  G_squared  \\\n",
      "A  0.000000  1.910953  0.711879  0.000000  0.460005         0   0.000000   \n",
      "B  0.361466  0.000000  0.000000  0.477257  0.328517         1   0.130658   \n",
      "C  0.000000  0.792006  0.073249  1.303286  0.100067         0   0.000000   \n",
      "D  0.213481  1.017349  1.911712  0.000000  1.230830         1   0.045574   \n",
      "E  1.842135  0.000000  0.000000  0.237631  0.784900         1   3.393462   \n",
      "F  0.000000  1.214984  0.000000  0.822723  0.060802         0   0.000000   \n",
      "\n",
      "   H_cumsum  \n",
      "A  1.910953  \n",
      "B  1.910953  \n",
      "C  2.702959  \n",
      "D  3.720308  \n",
      "E  3.720308  \n",
      "F  4.935292  \n"
     ]
    }
   ],
   "source": [
    "#24)Using the cumsum function() to Cumulatively apply a custom function to each element in column 'H'\n",
    "df['H_cumsum'] = df['H'].cumsum()\n",
    "#print the result\n",
    "print(df)"
   ]
  },
  {
   "cell_type": "code",
   "execution_count": 202,
   "id": "55ec1d2d",
   "metadata": {},
   "outputs": [
    {
     "name": "stdout",
     "output_type": "stream",
     "text": [
      "Empty DataFrame\n",
      "Columns: []\n",
      "Index: [A, B, C, D, E, F]\n"
     ]
    }
   ],
   "source": [
    "#25)Using the filter method to Select columns with column names containing 'J'\n",
    "df_columns_J = df.filter(like='J')\n",
    "print(df_columns_J)\n"
   ]
  },
  {
   "cell_type": "code",
   "execution_count": 203,
   "id": "9cb1ed7b",
   "metadata": {},
   "outputs": [
    {
     "name": "stdout",
     "output_type": "stream",
     "text": [
      "          G         H         I         K         j  G_binary  G_squared  \\\n",
      "A  0.000000  1.910953  0.711879  0.000000  0.460005         0   0.000000   \n",
      "B  0.361466  0.000000  0.000000  0.477257  0.328517         1   0.130658   \n",
      "C  0.000000  0.792006  0.073249  1.303286  0.100067         0   0.000000   \n",
      "D  0.213481  1.017349  1.911712  0.000000  1.230830         1   0.045574   \n",
      "E  1.842135  0.000000  0.000000  0.237631  0.784900         1   3.393462   \n",
      "F  0.000000  1.214984  0.000000  0.822723  0.060802         0   0.000000   \n",
      "\n",
      "   H_cumsum  G_shifted  \n",
      "A  1.910953        NaN  \n",
      "B  1.910953   0.000000  \n",
      "C  2.702959   0.361466  \n",
      "D  3.720308   0.000000  \n",
      "E  3.720308   0.213481  \n",
      "F  4.935292   1.842135  \n"
     ]
    }
   ],
   "source": [
    "#26)Using the Shift function() to Create a new column 'G_shifted' with the values of 'G' shifted by 1 position\n",
    "df['G_shifted'] = df['G'].shift(1)\n",
    "print(df)"
   ]
  },
  {
   "cell_type": "code",
   "execution_count": 204,
   "id": "5618ef53",
   "metadata": {},
   "outputs": [
    {
     "name": "stdout",
     "output_type": "stream",
     "text": [
      "          G         H         I         K         j  G_binary  G_squared  \\\n",
      "A  0.000000  1.910953  0.711879  0.000000  0.460005         0   0.000000   \n",
      "B  0.361466  0.000000  0.000000  0.477257  0.328517         1   0.130658   \n",
      "C  0.000000  0.792006  0.073249  1.303286  0.100067         0   0.000000   \n",
      "D  0.213481  1.017349  1.911712  0.000000  1.230830         1   0.045574   \n",
      "E  1.842135  0.000000  0.000000  0.237631  0.784900         1   3.393462   \n",
      "F  0.000000  1.214984  0.000000  0.822723  0.060802         0   0.000000   \n",
      "\n",
      "   H_cumsum  G_shifted  I_rounded  \n",
      "A  1.910953        NaN        1.0  \n",
      "B  1.910953   0.000000        0.0  \n",
      "C  2.702959   0.361466        0.0  \n",
      "D  3.720308   0.000000        2.0  \n",
      "E  3.720308   0.213481        0.0  \n",
      "F  4.935292   1.842135        0.0  \n"
     ]
    }
   ],
   "source": [
    "#27)Using the round function to each element in column 'I' and round to the nearest integer\n",
    "df['I_rounded'] = df['I'].round()\n",
    "#print the result\n",
    "print(df)\n"
   ]
  },
  {
   "cell_type": "code",
   "execution_count": 205,
   "id": "eccfe695",
   "metadata": {},
   "outputs": [
    {
     "name": "stdout",
     "output_type": "stream",
     "text": [
      "G            4\n",
      "H            5\n",
      "I            4\n",
      "K            5\n",
      "j            6\n",
      "G_binary     2\n",
      "G_squared    4\n",
      "H_cumsum     4\n",
      "G_shifted    4\n",
      "I_rounded    3\n",
      "dtype: int64\n"
     ]
    }
   ],
   "source": [
    "#28)Using the nunique() function to Count the number of unique values in each column\n",
    "df_nunique = df.nunique()\n",
    "#print the result\n",
    "print(df_nunique)"
   ]
  },
  {
   "cell_type": "code",
   "execution_count": 206,
   "id": "f123fe40",
   "metadata": {},
   "outputs": [
    {
     "data": {
      "text/html": [
       "<div>\n",
       "<style scoped>\n",
       "    .dataframe tbody tr th:only-of-type {\n",
       "        vertical-align: middle;\n",
       "    }\n",
       "\n",
       "    .dataframe tbody tr th {\n",
       "        vertical-align: top;\n",
       "    }\n",
       "\n",
       "    .dataframe thead th {\n",
       "        text-align: right;\n",
       "    }\n",
       "</style>\n",
       "<table border=\"1\" class=\"dataframe\">\n",
       "  <thead>\n",
       "    <tr style=\"text-align: right;\">\n",
       "      <th></th>\n",
       "      <th>G</th>\n",
       "      <th>H</th>\n",
       "      <th>I</th>\n",
       "      <th>K</th>\n",
       "      <th>j</th>\n",
       "      <th>G_binary</th>\n",
       "      <th>G_squared</th>\n",
       "      <th>H_cumsum</th>\n",
       "      <th>G_shifted</th>\n",
       "      <th>I_rounded</th>\n",
       "    </tr>\n",
       "  </thead>\n",
       "  <tbody>\n",
       "    <tr>\n",
       "      <th>A</th>\n",
       "      <td>0.000000</td>\n",
       "      <td>1.910953</td>\n",
       "      <td>0.711879</td>\n",
       "      <td>0.000000</td>\n",
       "      <td>0.460005</td>\n",
       "      <td>0</td>\n",
       "      <td>0.000000</td>\n",
       "      <td>1.910953</td>\n",
       "      <td>NaN</td>\n",
       "      <td>1.0</td>\n",
       "    </tr>\n",
       "    <tr>\n",
       "      <th>B</th>\n",
       "      <td>0.361466</td>\n",
       "      <td>0.000000</td>\n",
       "      <td>0.000000</td>\n",
       "      <td>0.477257</td>\n",
       "      <td>0.328517</td>\n",
       "      <td>1</td>\n",
       "      <td>0.130658</td>\n",
       "      <td>1.910953</td>\n",
       "      <td>0.000000</td>\n",
       "      <td>0.0</td>\n",
       "    </tr>\n",
       "    <tr>\n",
       "      <th>C</th>\n",
       "      <td>0.000000</td>\n",
       "      <td>0.792006</td>\n",
       "      <td>0.073249</td>\n",
       "      <td>1.303286</td>\n",
       "      <td>0.100067</td>\n",
       "      <td>0</td>\n",
       "      <td>0.000000</td>\n",
       "      <td>2.702959</td>\n",
       "      <td>0.361466</td>\n",
       "      <td>0.0</td>\n",
       "    </tr>\n",
       "    <tr>\n",
       "      <th>D</th>\n",
       "      <td>0.213481</td>\n",
       "      <td>1.017349</td>\n",
       "      <td>1.911712</td>\n",
       "      <td>0.000000</td>\n",
       "      <td>1.230830</td>\n",
       "      <td>1</td>\n",
       "      <td>0.045574</td>\n",
       "      <td>3.720308</td>\n",
       "      <td>0.000000</td>\n",
       "      <td>2.0</td>\n",
       "    </tr>\n",
       "    <tr>\n",
       "      <th>E</th>\n",
       "      <td>1.842135</td>\n",
       "      <td>0.000000</td>\n",
       "      <td>0.000000</td>\n",
       "      <td>0.237631</td>\n",
       "      <td>0.784900</td>\n",
       "      <td>1</td>\n",
       "      <td>3.393462</td>\n",
       "      <td>3.720308</td>\n",
       "      <td>0.213481</td>\n",
       "      <td>0.0</td>\n",
       "    </tr>\n",
       "    <tr>\n",
       "      <th>F</th>\n",
       "      <td>0.000000</td>\n",
       "      <td>1.214984</td>\n",
       "      <td>0.000000</td>\n",
       "      <td>0.822723</td>\n",
       "      <td>0.060802</td>\n",
       "      <td>0</td>\n",
       "      <td>0.000000</td>\n",
       "      <td>4.935292</td>\n",
       "      <td>1.842135</td>\n",
       "      <td>0.0</td>\n",
       "    </tr>\n",
       "  </tbody>\n",
       "</table>\n",
       "</div>"
      ],
      "text/plain": [
       "          G         H         I         K         j  G_binary  G_squared  \\\n",
       "A  0.000000  1.910953  0.711879  0.000000  0.460005         0   0.000000   \n",
       "B  0.361466  0.000000  0.000000  0.477257  0.328517         1   0.130658   \n",
       "C  0.000000  0.792006  0.073249  1.303286  0.100067         0   0.000000   \n",
       "D  0.213481  1.017349  1.911712  0.000000  1.230830         1   0.045574   \n",
       "E  1.842135  0.000000  0.000000  0.237631  0.784900         1   3.393462   \n",
       "F  0.000000  1.214984  0.000000  0.822723  0.060802         0   0.000000   \n",
       "\n",
       "   H_cumsum  G_shifted  I_rounded  \n",
       "A  1.910953        NaN        1.0  \n",
       "B  1.910953   0.000000        0.0  \n",
       "C  2.702959   0.361466        0.0  \n",
       "D  3.720308   0.000000        2.0  \n",
       "E  3.720308   0.213481        0.0  \n",
       "F  4.935292   1.842135        0.0  "
      ]
     },
     "execution_count": 206,
     "metadata": {},
     "output_type": "execute_result"
    }
   ],
   "source": [
    "df"
   ]
  },
  {
   "cell_type": "code",
   "execution_count": 207,
   "id": "a408d468",
   "metadata": {},
   "outputs": [
    {
     "name": "stdout",
     "output_type": "stream",
     "text": [
      "                   0         G         H         I         K         j  \\\n",
      "G           2.417083       NaN       NaN       NaN       NaN       NaN   \n",
      "H           4.935292       NaN       NaN       NaN       NaN       NaN   \n",
      "I           2.696840       NaN       NaN       NaN       NaN       NaN   \n",
      "K           2.840897       NaN       NaN       NaN       NaN       NaN   \n",
      "j           2.965121       NaN       NaN       NaN       NaN       NaN   \n",
      "G_binary    3.000000       NaN       NaN       NaN       NaN       NaN   \n",
      "G_squared   3.569694       NaN       NaN       NaN       NaN       NaN   \n",
      "H_cumsum   18.900773       NaN       NaN       NaN       NaN       NaN   \n",
      "G_shifted   2.417083       NaN       NaN       NaN       NaN       NaN   \n",
      "I_rounded   3.000000       NaN       NaN       NaN       NaN       NaN   \n",
      "A                NaN  0.000000  1.910953  0.711879  0.000000  0.460005   \n",
      "B                NaN  0.361466  0.000000  0.000000  0.477257  0.328517   \n",
      "C                NaN  0.000000  0.792006  0.073249  1.303286  0.100067   \n",
      "D                NaN  0.213481  1.017349  1.911712  0.000000  1.230830   \n",
      "E                NaN  1.842135  0.000000  0.000000  0.237631  0.784900   \n",
      "F                NaN  0.000000  1.214984  0.000000  0.822723  0.060802   \n",
      "\n",
      "           G_binary  G_squared  H_cumsum  G_shifted  I_rounded  \n",
      "G               NaN        NaN       NaN        NaN        NaN  \n",
      "H               NaN        NaN       NaN        NaN        NaN  \n",
      "I               NaN        NaN       NaN        NaN        NaN  \n",
      "K               NaN        NaN       NaN        NaN        NaN  \n",
      "j               NaN        NaN       NaN        NaN        NaN  \n",
      "G_binary        NaN        NaN       NaN        NaN        NaN  \n",
      "G_squared       NaN        NaN       NaN        NaN        NaN  \n",
      "H_cumsum        NaN        NaN       NaN        NaN        NaN  \n",
      "G_shifted       NaN        NaN       NaN        NaN        NaN  \n",
      "I_rounded       NaN        NaN       NaN        NaN        NaN  \n",
      "A               0.0   0.000000  1.910953        NaN        1.0  \n",
      "B               1.0   0.130658  1.910953   0.000000        0.0  \n",
      "C               0.0   0.000000  2.702959   0.361466        0.0  \n",
      "D               1.0   0.045574  3.720308   0.000000        2.0  \n",
      "E               1.0   3.393462  3.720308   0.213481        0.0  \n",
      "F               0.0   0.000000  4.935292   1.842135        0.0  \n"
     ]
    }
   ],
   "source": [
    "#29)Apply a custom function to each column and concatenate the result as a new row\n",
    "df_custom_function_row = pd.concat([df.apply(lambda col: col.sum()), df], axis=0)\n",
    "print(df_custom_function_row)"
   ]
  },
  {
   "cell_type": "code",
   "execution_count": 208,
   "id": "1838b7f0",
   "metadata": {},
   "outputs": [
    {
     "name": "stdout",
     "output_type": "stream",
     "text": [
      "True\n"
     ]
    }
   ],
   "source": [
    "#30)Check if any element in the DataFrame is equal to 0\n",
    "any_equal_to_zero = any(df.eq(0).any())\n",
    "#print the result\n",
    "print(any_equal_to_zero)"
   ]
  },
  {
   "cell_type": "raw",
   "id": "8954b41e",
   "metadata": {},
   "source": []
  },
  {
   "cell_type": "code",
   "execution_count": null,
   "id": "f8287d91",
   "metadata": {},
   "outputs": [],
   "source": []
  }
 ],
 "metadata": {
  "kernelspec": {
   "display_name": "Python 3 (ipykernel)",
   "language": "python",
   "name": "python3"
  },
  "language_info": {
   "codemirror_mode": {
    "name": "ipython",
    "version": 3
   },
   "file_extension": ".py",
   "mimetype": "text/x-python",
   "name": "python",
   "nbconvert_exporter": "python",
   "pygments_lexer": "ipython3",
   "version": "3.9.12"
  }
 },
 "nbformat": 4,
 "nbformat_minor": 5
}
